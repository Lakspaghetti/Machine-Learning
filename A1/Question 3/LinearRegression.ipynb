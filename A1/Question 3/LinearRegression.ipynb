{
 "cells": [
  {
   "cell_type": "code",
   "execution_count": 17,
   "metadata": {},
   "outputs": [],
   "source": [
    "import matplotlib.colors as cm\n",
    "import matplotlib.pyplot as plt\n",
    "import numpy as np\n",
    "import pandas as pd"
   ]
  },
  {
   "cell_type": "code",
   "execution_count": 18,
   "metadata": {},
   "outputs": [],
   "source": [
    "from re import X\n",
    "\n",
    "\n",
    "class LinearRegression():\n",
    "\n",
    "    def __init__(self, lam=1.0):\n",
    "        self.lam = lam\n",
    "            \n",
    "    def fit(self, X, y): \n",
    "\n",
    "        self.X_train = X\n",
    "        self.Y_train = y\n",
    "\n",
    "        #appending the column of ones for X~ (X tilde)\n",
    "        ones = np.ones((X.shape[0], 1))\n",
    "        X = np.concatenate((ones, X), axis=1)      \n",
    "\n",
    "        #w* = (X^T X)^(−1) X^T y \n",
    "        #consider instead (X^t X)w* = X^t y, np.linalg.solve() will figure out w in this equation\n",
    "        a = np.dot(X.T, X)  \n",
    "        b = np.dot(X.T, y)\n",
    "        w = np.linalg.solve(a, b)\n",
    "\n",
    "        self.w = w[1:].flatten()#avoid array of arrays and instead have array of ws\n",
    "        self.b = w[0] \n",
    "\n",
    "    def printw(self): #parameters\n",
    "            print(f\"this is w_1..w_d: {self.w}\")\n",
    "            print(f\"this is b: {self.b}\")\n",
    "            \n",
    "    def predict(self, X): #model\n",
    "        return self.w * X + self.b\n",
    "\n",
    "    def MSE(self, t, tp):\n",
    "        error = t - tp\n",
    "        square = error ** 2\n",
    "        mean = np.mean(square)\n",
    "        #root = np.sqrt(mean)       \n",
    "        return mean"
   ]
  },
  {
   "cell_type": "code",
   "execution_count": 19,
   "metadata": {},
   "outputs": [
    {
     "name": "stdout",
     "output_type": "stream",
     "text": [
      "this is w_1..w_d: [0.25912824]\n",
      "this is b: [0.03147247]\n",
      "This is the MSE for h and logYs 0.29853492489386185\n",
      "coefficient of determination R^2 0.9911319498921859\n"
     ]
    },
    {
     "data": {
      "text/plain": [
       "<matplotlib.legend.Legend at 0x7f49826da370>"
      ]
     },
     "execution_count": 19,
     "metadata": {},
     "output_type": "execute_result"
    },
    {
     "data": {
      "image/png": "[encoded data removed]",
      "text/plain": [
       "<Figure size 432x288 with 1 Axes>"
      ]
     },
     "metadata": {
      "needs_background": "light"
     },
     "output_type": "display_data"
    }
   ],
   "source": [
    "Data = np.loadtxt('PCB.dt')\n",
    "Xs = Data[:,0].reshape((-1,1))\n",
    "Ys = Data[:,1].reshape((-1,1))\n",
    "logYs = np.log(Ys)\n",
    "\n",
    "learn = LinearRegression()\n",
    "learn.fit(Xs, logYs)\n",
    "learn.printw()\n",
    "ModelOutput = learn.predict(Xs)\n",
    "print(f\"This is the MSE for h and logYs {learn.MSE(logYs,ModelOutput)}\")\n",
    "COD = 1 - (np.mean((logYs - ModelOutput)**2)/np.mean((logYs - np.mean(Ys))**2))\n",
    "print(f\"coefficient of determination R^2 {COD}\")\n",
    "\n",
    "x = np.linspace(0,15,100)\n",
    "y = 0.25912824*x+0.03147247\n",
    "plt.title(\"PCB\")\n",
    "plt.xlabel('age')\n",
    "plt.ylabel('ln(PCB)')\n",
    "plt.scatter(Xs,logYs)\n",
    "plt.plot(x, y, color='green', label=\"i=1\")\n",
    "plt.legend(loc=2)"
   ]
  },
  {
   "cell_type": "code",
   "execution_count": 20,
   "metadata": {},
   "outputs": [
    {
     "name": "stdout",
     "output_type": "stream",
     "text": [
      "this is w_1..w_d: [1.1986063]\n",
      "this is b: [-1.19475082]\n",
      "This is the MSE for h and logYs 1.5127796994733689\n",
      "coefficient of determination R^2 0.9550625234826937\n"
     ]
    },
    {
     "data": {
      "text/plain": [
       "<matplotlib.legend.Legend at 0x7f49826468e0>"
      ]
     },
     "execution_count": 20,
     "metadata": {},
     "output_type": "execute_result"
    },
    {
     "data": {
      "image/png": "[encoded data removed]",
      "text/plain": [
       "<Figure size 432x288 with 1 Axes>"
      ]
     },
     "metadata": {
      "needs_background": "light"
     },
     "output_type": "display_data"
    }
   ],
   "source": [
    "sqrtXs = np.sqrt(Xs)\n",
    "NLLearn = LinearRegression()\n",
    "NLLearn.fit(sqrtXs, logYs)\n",
    "NLLearn.printw()\n",
    "ModelOutput = learn.predict(sqrtXs)\n",
    "print(f\"This is the MSE for h and logYs {learn.MSE(logYs,ModelOutput)}\")\n",
    "\n",
    "COD = 1 - (np.mean((logYs - ModelOutput)**2)/np.mean((logYs - np.mean(Ys))**2))\n",
    "print(f\"coefficient of determination R^2 {COD}\")\n",
    "\n",
    "x = np.linspace(0,15,1000)\n",
    "y = 1.1986063*np.sqrt(x)+-1.19475082\n",
    "plt.title(\"PCB\")\n",
    "plt.xlabel('age')\n",
    "plt.ylabel('ln(PCB)')\n",
    "plt.scatter(Xs,logYs)\n",
    "plt.plot(x, y, color='green', label=\"i=1\")\n",
    "plt.legend(loc=2)"
   ]
  }
 ],
 "metadata": {
  "kernelspec": {
   "display_name": "Python 3.8.10 64-bit",
   "language": "python",
   "name": "python3"
  },
  "language_info": {
   "codemirror_mode": {
    "name": "ipython",
    "version": 3
   },
   "file_extension": ".py",
   "mimetype": "text/x-python",
   "name": "python",
   "nbconvert_exporter": "python",
   "pygments_lexer": "ipython3",
   "version": "3.8.10"
  },
  "orig_nbformat": 4,
  "vscode": {
   "interpreter": {
    "hash": "31f2aee4e71d21fbe5cf8b01ff0e069b9275f58929596ceb00d14d90e3e16cd6"
   }
  }
 },
 "nbformat": 4,
 "nbformat_minor": 2
}
