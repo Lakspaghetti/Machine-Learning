{
 "cells": [
  {
   "cell_type": "code",
   "execution_count": 52,
   "metadata": {},
   "outputs": [],
   "source": [
    "from itertools import count\n",
    "import matplotlib.colors as cm\n",
    "import matplotlib.pyplot as plt\n",
    "import numpy as np"
   ]
  },
  {
   "cell_type": "code",
   "execution_count": 53,
   "metadata": {},
   "outputs": [
    {
     "name": "stdout",
     "output_type": "stream",
     "text": [
      "559\n",
      "0.6207513416815742\n",
      "397\n",
      "0.8136020151133502\n"
     ]
    }
   ],
   "source": [
    "S = np.loadtxt('S.csv')\n",
    "U = np.loadtxt('U.csv')\n",
    "\n",
    "S_n = S.size\n",
    "S_u = np.mean(S)\n",
    "\n",
    "print(S_n)\n",
    "print(S_u)\n",
    "\n",
    "U_n = U.size\n",
    "U_u = np.mean(U)\n",
    "\n",
    "print(U_n)\n",
    "print(U_u)"
   ]
  },
  {
   "cell_type": "code",
   "execution_count": 54,
   "metadata": {},
   "outputs": [
    {
     "name": "stdout",
     "output_type": "stream",
     "text": [
      "0.5594615006515282\n",
      "0.6820411827116202\n"
     ]
    }
   ],
   "source": [
    "left = S_u - np.sqrt(1/(2*S_n)*np.log(2/0.03))\n",
    "right = S_u + np.sqrt(1/(2*S_n)*np.log(2/0.03))\n",
    "\n",
    "print(left)\n",
    "print(right)"
   ]
  },
  {
   "cell_type": "code",
   "execution_count": 55,
   "metadata": {},
   "outputs": [
    {
     "name": "stdout",
     "output_type": "stream",
     "text": [
      "0.5519101970795666\n",
      "0.6895924862835818\n"
     ]
    }
   ],
   "source": [
    "left = S_u - np.sqrt(1/(2*S_n)*np.log(2/0.01))\n",
    "right = S_u + np.sqrt(1/(2*S_n)*np.log(2/0.01))\n",
    "\n",
    "print(left)\n",
    "print(right)"
   ]
  },
  {
   "cell_type": "code",
   "execution_count": 56,
   "metadata": {},
   "outputs": [
    {
     "name": "stdout",
     "output_type": "stream",
     "text": [
      "0.7319139267125042\n",
      "0.8952901035141961\n"
     ]
    }
   ],
   "source": [
    "Uleft = U_u - np.sqrt(1/(2*U_n)*np.log(2/0.01))\n",
    "Uright = U_u + np.sqrt(1/(2*U_n)*np.log(2/0.01))\n",
    "\n",
    "print(Uleft)\n",
    "print(Uright)"
   ]
  }
 ],
 "metadata": {
  "kernelspec": {
   "display_name": "Python 3.8.10 64-bit",
   "language": "python",
   "name": "python3"
  },
  "language_info": {
   "codemirror_mode": {
    "name": "ipython",
    "version": 3
   },
   "file_extension": ".py",
   "mimetype": "text/x-python",
   "name": "python",
   "nbconvert_exporter": "python",
   "pygments_lexer": "ipython3",
   "version": "3.8.10"
  },
  "orig_nbformat": 4,
  "vscode": {
   "interpreter": {
    "hash": "31f2aee4e71d21fbe5cf8b01ff0e069b9275f58929596ceb00d14d90e3e16cd6"
   }
  }
 },
 "nbformat": 4,
 "nbformat_minor": 2
}
