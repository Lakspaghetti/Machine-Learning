{
 "cells": [
  {
   "cell_type": "code",
   "execution_count": 19,
   "metadata": {},
   "outputs": [],
   "source": [
    "from itertools import count\n",
    "import matplotlib.colors as cm\n",
    "import matplotlib.pyplot as plt\n",
    "import numpy as np"
   ]
  },
  {
   "cell_type": "code",
   "execution_count": 20,
   "metadata": {},
   "outputs": [],
   "source": [
    "Data = np.array([[47,35], [22,40]])\n",
    "unknown = np.array([21,36])"
   ]
  },
  {
   "cell_type": "code",
   "execution_count": 21,
   "metadata": {},
   "outputs": [
    {
     "name": "stdout",
     "output_type": "stream",
     "text": [
      "26.019223662515376\n",
      "4.123105625617661\n"
     ]
    }
   ],
   "source": [
    "d_goodNunknown = np.sqrt(np.sum((Data[0] - unknown)**2))\n",
    "d_badNunknown = np.sqrt(np.sum((Data[1] - unknown)**2))\n",
    "\n",
    "print(d_goodNunknown)\n",
    "print(d_badNunknown)"
   ]
  },
  {
   "cell_type": "code",
   "execution_count": 22,
   "metadata": {},
   "outputs": [],
   "source": [
    "Data = np.array([[47,35000], [22,40000]])\n",
    "unknown = np.array([21,36000])"
   ]
  },
  {
   "cell_type": "code",
   "execution_count": 23,
   "metadata": {},
   "outputs": [
    {
     "name": "stdout",
     "output_type": "stream",
     "text": [
      "1000.3379428972991\n",
      "4000.000124999998\n"
     ]
    }
   ],
   "source": [
    "d_goodNunknown = np.sqrt(np.sum((Data[0] - unknown)**2))\n",
    "d_badNunknown = np.sqrt(np.sum((Data[1] - unknown)**2))\n",
    "\n",
    "print(d_goodNunknown)\n",
    "print(d_badNunknown)"
   ]
  }
 ],
 "metadata": {
  "kernelspec": {
   "display_name": "Python 3.8.10 64-bit",
   "language": "python",
   "name": "python3"
  },
  "language_info": {
   "codemirror_mode": {
    "name": "ipython",
    "version": 3
   },
   "file_extension": ".py",
   "mimetype": "text/x-python",
   "name": "python",
   "nbconvert_exporter": "python",
   "pygments_lexer": "ipython3",
   "version": "3.8.10"
  },
  "orig_nbformat": 4,
  "vscode": {
   "interpreter": {
    "hash": "31f2aee4e71d21fbe5cf8b01ff0e069b9275f58929596ceb00d14d90e3e16cd6"
   }
  }
 },
 "nbformat": 4,
 "nbformat_minor": 2
}
